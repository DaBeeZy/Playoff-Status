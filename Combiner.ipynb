{
 "cells": [
  {
   "cell_type": "code",
   "execution_count": 1,
   "metadata": {},
   "outputs": [
    {
     "ename": "SyntaxError",
     "evalue": "invalid syntax (<ipython-input-1-956625ca0bb7>, line 37)",
     "output_type": "error",
     "traceback": [
      "\u001b[1;36m  File \u001b[1;32m\"<ipython-input-1-956625ca0bb7>\"\u001b[1;36m, line \u001b[1;32m37\u001b[0m\n\u001b[1;33m    if obj.value = true:\u001b[0m\n\u001b[1;37m                 ^\u001b[0m\n\u001b[1;31mSyntaxError\u001b[0m\u001b[1;31m:\u001b[0m invalid syntax\n"
     ]
    }
   ],
   "source": [
    "import pandas as pd\n",
    "import matplotlib.pyplot as plt\n",
    "import numpy as np\n",
    "import ipywidgets as widgets\n",
    "\n",
    "#Asks user the parameter to filter by\n",
    "#parameter = input(\"Filter by Points or Championships(type p or c): \")\n",
    "#maxTeams = int(input(\"How many teams from the top: \"))\n",
    "\n",
    "box1 = widgets.ToggleButton(\n",
    "    value = False,\n",
    "    description = \"Group 1\",\n",
    "    disabled = False,\n",
    "    button_style='',\n",
    "    tooltip = 'Click to select a group of teams to add to the graph',\n",
    "    icon = 'check'\n",
    ")\n",
    "box2 = widgets.ToggleButton(\n",
    "    value = False,\n",
    "    description = \"Group 2\",\n",
    "    disabled = False,\n",
    "    button_style='',\n",
    "    tooltip = 'Click to select a group of teams to add to the graph',\n",
    "    icon = 'check'\n",
    ")\n",
    "box3 = widgets.ToggleButton(\n",
    "    value = False,\n",
    "    description = \"Group 3\",\n",
    "    disabled = False,\n",
    "    button_style='',\n",
    "    tooltip = 'Click to select a group of teams to add to the graph',\n",
    "    icon = 'check'\n",
    ")\n",
    "display(box1,box2,box3)\n",
    "\n",
    "def btn_eventhandler(obj):\n",
    "    if obj.value = true:\n",
    "        league = widgets.Dropdown(\n",
    "            options =['NHL','NBA','NFL','MLB'],\n",
    "            value = 'Select a league',\n",
    "            description ='League',\n",
    "            disabled=False,\n",
    "        )\n",
    "        yearStart = widgets.Text(\n",
    "            placeholder = 'Type Starting Year',\n",
    "            description = 'From:',\n",
    "            disabled = False\n",
    "        )\n",
    "        yearEnd = widgets.Text(\n",
    "            placeholder = 'Type Ending Year',\n",
    "            description = 'To:',\n",
    "            disabled = False\n",
    "        )\n",
    "\n",
    "\n",
    "        \n",
    "        \n",
    "\n",
    "\n"
   ]
  },
  {
   "cell_type": "code",
   "execution_count": null,
   "metadata": {},
   "outputs": [],
   "source": []
  }
 ],
 "metadata": {
  "kernelspec": {
   "display_name": "Python 3",
   "language": "python",
   "name": "python3"
  },
  "language_info": {
   "codemirror_mode": {
    "name": "ipython",
    "version": 3
   },
   "file_extension": ".py",
   "mimetype": "text/x-python",
   "name": "python",
   "nbconvert_exporter": "python",
   "pygments_lexer": "ipython3",
   "version": "3.7.3"
  }
 },
 "nbformat": 4,
 "nbformat_minor": 2
}
